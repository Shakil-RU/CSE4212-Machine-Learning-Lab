{
 "cells": [
  {
   "cell_type": "markdown",
   "metadata": {},
   "source": [
    "## Task : Create a model using Naive Bayes Classifier to predict whether the Tennis Match wil happen or not based on the weather conditions."
   ]
  },
  {
   "cell_type": "markdown",
   "metadata": {},
   "source": [
    "### Step 1: Import Required Libraries"
   ]
  },
  {
   "cell_type": "code",
   "execution_count": 209,
   "metadata": {},
   "outputs": [],
   "source": [
    "import pandas as pd #For data manipulation.\n",
    "import numpy as np  # For numerical operations.\n",
    "from sklearn.preprocessing import LabelEncoder #Converts categorical data (e.g., \"Sunny\", \"Rain\") into numerical labels (0, 1, 2).\n",
    "from sklearn.naive_bayes import CategoricalNB  \n",
    "from sklearn.model_selection import train_test_split \n",
    "from sklearn.metrics import accuracy_score, confusion_matrix, ConfusionMatrixDisplay \n",
    "import matplotlib.pyplot as plt "
   ]
  },
  {
   "cell_type": "markdown",
   "metadata": {},
   "source": [
    "### Step 2: Load and Explore the Dataset"
   ]
  },
  {
   "cell_type": "code",
   "execution_count": 210,
   "metadata": {},
   "outputs": [
    {
     "name": "stdout",
     "output_type": "stream",
     "text": [
      "Dataset Preview:\n",
      "    outlook  temp humidity    wind class\n",
      "0     Sunny   Hot     High    Weak    No\n",
      "1     Sunny   Hot     High  Strong    No\n",
      "2  Overcast   Hot     High    Weak   Yes\n",
      "3      Rain  Mild     High    Weak   Yes\n",
      "4      Rain  Cool   Normal    Weak   Yes\n",
      "\n",
      "Class Distribution:\n",
      "class\n",
      "Yes    9\n",
      "No     5\n",
      "Name: count, dtype: int64\n"
     ]
    }
   ],
   "source": [
    "# Load dataset\n",
    "data_source = '/Users/macbookair/CSE-4.2/Machine Learning/Lab/Datasets/tennis_anyone.csv'\n",
    "df = pd.read_csv(data_source)\n",
    "df.columns = ['outlook', 'temp', 'humidity', 'wind', 'class']  # Rename columns\n",
    "\n",
    "# Display first 5 rows\n",
    "print(\"Dataset Preview:\")\n",
    "print(df.head())\n",
    "\n",
    "# Check class distribution\n",
    "print(\"\\nClass Distribution:\")\n",
    "print(df['class'].value_counts())"
   ]
  },
  {
   "cell_type": "markdown",
   "metadata": {},
   "source": [
    "### Step 3: Preprocess Data (Convert Categorical to Numerical)"
   ]
  },
  {
   "cell_type": "code",
   "execution_count": 211,
   "metadata": {},
   "outputs": [
    {
     "name": "stdout",
     "output_type": "stream",
     "text": [
      "\n",
      "Encoded Dataset:\n",
      "   outlook  temp  humidity  wind  class\n",
      "0        2     1         0     1      0\n",
      "1        2     1         0     0      0\n",
      "2        0     1         0     1      1\n",
      "3        1     2         0     1      1\n",
      "4        1     0         1     1      1\n"
     ]
    }
   ],
   "source": [
    "# Initialize LabelEncoders for each column\n",
    "label_encoders = {}\n",
    "\n",
    "for column in df.columns:\n",
    "    le = LabelEncoder()\n",
    "    df[column] = le.fit_transform(df[column])  # Convert text to numbers\n",
    "    label_encoders[column] = le  # Store encoders for later use\n",
    "\n",
    "# Display encoded data\n",
    "print(\"\\nEncoded Dataset:\")\n",
    "print(df.head())"
   ]
  },
  {
   "cell_type": "markdown",
   "metadata": {},
   "source": [
    "LabelEncoder() converts:\n",
    "\n",
    "\"Sunny\" → 0, \"Overcast\" → 1, \"Rain\" → 2\n",
    "\n",
    "\"Hot\" → 0, \"Mild\" → 1, \"Cool\" → 2\n",
    "\n",
    "\"High\" → 0, \"Normal\" → 1\n",
    "\n",
    "\"Weak\" → 0, \"Strong\" → 1\n",
    "\n",
    "\"No\" → 0, \"Yes\" → 1\n",
    "\n",
    "label_encoders stores the mappings to decode predictions later."
   ]
  },
  {
   "cell_type": "markdown",
   "metadata": {},
   "source": [
    "### Step 4: Split Data into Training & Testing Sets"
   ]
  },
  {
   "cell_type": "code",
   "execution_count": 212,
   "metadata": {},
   "outputs": [
    {
     "name": "stdout",
     "output_type": "stream",
     "text": [
      "\n",
      "Training set size: (9, 4)\n",
      "Testing set size: (5, 4)\n"
     ]
    }
   ],
   "source": [
    "# Features (X) and Target (y)\n",
    "X = df.drop(columns=['class'])  # All columns except 'class'\n",
    "y = df['class']  # Only 'class' column\n",
    "\n",
    "# Split into 70% training, 30% testing\n",
    "X_train, X_test, y_train, y_test = train_test_split(\n",
    "    X, y, \n",
    "    test_size=0.3, \n",
    "    random_state=42  # Ensures reproducibility\n",
    ")\n",
    "\n",
    "print(\"\\nTraining set size:\", X_train.shape)\n",
    "print(\"Testing set size:\", X_test.shape)"
   ]
  },
  {
   "cell_type": "markdown",
   "metadata": {},
   "source": [
    "### Step 5: Train the Naive Bayes Model"
   ]
  },
  {
   "cell_type": "code",
   "execution_count": 213,
   "metadata": {},
   "outputs": [
    {
     "name": "stdout",
     "output_type": "stream",
     "text": [
      "\n",
      "Model trained successfully!\n",
      "Training Accuracy: 0.8889\n"
     ]
    }
   ],
   "source": [
    "# Initialize and train the model\n",
    "nb_classifier = CategoricalNB(alpha=0.1)\n",
    "nb_classifier.fit(X_train, y_train)\n",
    "\n",
    "train_accuracy = nb_classifier.score(X_train, y_train)\n",
    "\n",
    "print(f\"\\nModel trained successfully!\")\n",
    "print(f\"Training Accuracy: {train_accuracy:.4f}\")\n"
   ]
  },
  {
   "cell_type": "markdown",
   "metadata": {},
   "source": [
    "### Step 6: Evaluate Model Performance"
   ]
  },
  {
   "cell_type": "code",
   "execution_count": 214,
   "metadata": {},
   "outputs": [
    {
     "name": "stdout",
     "output_type": "stream",
     "text": [
      "\n",
      "Test Accuracy: 0.80\n"
     ]
    },
    {
     "data": {
      "image/png": "[encoded data removed]",
      "text/plain": [
       "<Figure size 640x480 with 2 Axes>"
      ]
     },
     "metadata": {},
     "output_type": "display_data"
    }
   ],
   "source": [
    "# Predict on test data\n",
    "y_pred = nb_classifier.predict(X_test)\n",
    "\n",
    "# Calculate accuracy\n",
    "accuracy = accuracy_score(y_test, y_pred)\n",
    "print(f\"\\nTest Accuracy: {accuracy:.2f}\")\n",
    "\n",
    "# Confusion Matrix\n",
    "cm = confusion_matrix(y_test, y_pred)\n",
    "disp = ConfusionMatrixDisplay(\n",
    "    confusion_matrix=cm, \n",
    "    display_labels=label_encoders['class'].classes_\n",
    ")\n",
    "disp.plot()\n",
    "plt.title(\"Confusion Matrix\")\n",
    "plt.show()\n",
    "\n"
   ]
  },
  {
   "cell_type": "markdown",
   "metadata": {},
   "source": [
    "### Step 7: Make Predictions on New Data"
   ]
  },
  {
   "cell_type": "code",
   "execution_count": 215,
   "metadata": {},
   "outputs": [
    {
     "name": "stdout",
     "output_type": "stream",
     "text": [
      "\n",
      "Prediction for [Sunny, Cool, High, Strong]:\n",
      "Yes\n"
     ]
    }
   ],
   "source": [
    "def predict_match(outlook, temp, humidity, wind):\n",
    "    # Convert input to DataFrame\n",
    "    input_data = pd.DataFrame({\n",
    "        'outlook': [outlook],\n",
    "        'temp': [temp],\n",
    "        'humidity': [humidity],\n",
    "        'wind': [wind]\n",
    "    })\n",
    "    \n",
    "    # Encode input using stored LabelEncoders\n",
    "    for column in input_data.columns:\n",
    "        le = label_encoders[column]\n",
    "        input_data[column] = le.transform(input_data[column])\n",
    "    \n",
    "    # Predict and decode result\n",
    "    prediction = nb_classifier.predict(input_data)\n",
    "    return label_encoders['class'].inverse_transform(prediction)[0]\n",
    "\n",
    "# Test Case 1: Sunny, Cool, High, Strong\n",
    "print(\"\\nPrediction for [Sunny, Cool, High, Strong]:\")\n",
    "print(predict_match('Sunny', 'Cool', 'High', 'Strong'))\n"
   ]
  },
  {
   "cell_type": "markdown",
   "metadata": {},
   "source": [
    "### Step 8: Interpret Feature Importance"
   ]
  },
  {
   "cell_type": "code",
   "execution_count": 216,
   "metadata": {},
   "outputs": [
    {
     "name": "stdout",
     "output_type": "stream",
     "text": [
      "\n",
      "Final Correct Feature Importance Analysis\n",
      "Number of classes: 4\n",
      "\n",
      "=== Feature Importance for Class: No ===\n",
      "\n",
      "outlook (expected 3 categories):\n",
      "  P(outlook=Sunny|No): 0.0303\n",
      "  P(outlook=Overcast|No): 0.3333\n",
      "  P(outlook=Rain|No): 0.6364\n",
      "\n",
      "temp (expected 3 categories):\n",
      "  P(temp=Hot|No): 0.3333\n",
      "  P(temp=Mild|No): 0.3333\n",
      "  P(temp=Cool|No): 0.3333\n",
      "\n",
      "humidity: Probability data not available\n",
      "\n",
      "wind: Probability data not available\n",
      "\n",
      "=== Feature Importance for Class: Yes ===\n",
      "\n",
      "outlook (expected 3 categories):\n",
      "  P(outlook=Sunny|Yes): 0.0303\n",
      "  P(outlook=Overcast|Yes): 0.3333\n",
      "  P(outlook=Rain|Yes): 0.6364\n",
      "\n",
      "temp (expected 3 categories):\n",
      "  P(temp=Hot|Yes): 0.4921\n",
      "  P(temp=Mild|Yes): 0.1746\n",
      "  P(temp=Cool|Yes): 0.3333\n",
      "\n",
      "humidity: Probability data not available\n",
      "\n",
      "wind: Probability data not available\n"
     ]
    }
   ],
   "source": [
    "print(\"\\nFinal Correct Feature Importance Analysis\")\n",
    "\n",
    "# Get the actual structure from the model\n",
    "print(\"Number of classes:\", len(nb_classifier.feature_log_prob_))\n",
    "\n",
    "# Create mapping of feature names to their categories\n",
    "feature_categories = {\n",
    "    'outlook': ['Sunny', 'Overcast', 'Rain'],\n",
    "    'temp': ['Hot', 'Mild', 'Cool'],\n",
    "    'humidity': ['High', 'Normal'],\n",
    "    'wind': ['Weak', 'Strong']\n",
    "}\n",
    "\n",
    "# Analyze feature importance per class\n",
    "for class_idx, class_name in enumerate(class_names):\n",
    "    print(f\"\\n=== Feature Importance for Class: {class_name} ===\")\n",
    "    class_probs = nb_classifier.feature_log_prob_[class_idx]\n",
    "    \n",
    "    for feature_idx, feature in enumerate(feature_names):\n",
    "        # Safely get probabilities for this feature\n",
    "        try:\n",
    "            feature_probs = np.exp(class_probs[feature_idx])\n",
    "            n_categories = len(feature_categories[feature])\n",
    "            \n",
    "            print(f\"\\n{feature} (expected {n_categories} categories):\")\n",
    "            for cat_idx in range(n_categories):\n",
    "                if cat_idx < len(feature_probs):  # Ensure we don't exceed available probabilities\n",
    "                    cat_name = feature_categories[feature][cat_idx]\n",
    "                    prob = feature_probs[cat_idx] if cat_idx < len(feature_probs) else 0.0\n",
    "                    print(f\"  P({feature}={cat_name}|{class_name}): {prob:.4f}\")\n",
    "                else:\n",
    "                    print(f\"  P({feature}=[missing category {cat_idx}]|{class_name}): 0.0\")\n",
    "        except IndexError:\n",
    "            print(f\"\\n{feature}: Probability data not available\")"
   ]
  }
 ],
 "metadata": {
  "kernelspec": {
   "display_name": "Python 3",
   "language": "python",
   "name": "python3"
  },
  "language_info": {
   "codemirror_mode": {
    "name": "ipython",
    "version": 3
   },
   "file_extension": ".py",
   "mimetype": "text/x-python",
   "name": "python",
   "nbconvert_exporter": "python",
   "pygments_lexer": "ipython3",
   "version": "3.11.4"
  },
  "orig_nbformat": 4
 },
 "nbformat": 4,
 "nbformat_minor": 2
}
